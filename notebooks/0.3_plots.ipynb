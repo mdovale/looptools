{
 "cells": [
  {
   "cell_type": "code",
   "execution_count": null,
   "id": "8ef6e2f2",
   "metadata": {},
   "outputs": [],
   "source": [
    "import numpy as np\n",
    "import matplotlib.pyplot as plt\n",
    "from looptools.loop import LOOP\n",
    "from looptools.component import Component\n",
    "from looptools.components import LPFComponent, TwoStageLPFComponent"
   ]
  },
  {
   "cell_type": "code",
   "execution_count": null,
   "id": "8d0fffa8",
   "metadata": {},
   "outputs": [],
   "source": [
    "sps = 80e6 # Loop update frequency\n",
    "\n",
    "# Test 0: Single component\n",
    "test_loop1 = LOOP(sps, [\n",
    "    Component(\"Component A\", sps)\n",
    "], \"Test Loop\")\n",
    "test_loop1.block_diagram(transfer_functions=True)"
   ]
  },
  {
   "cell_type": "code",
   "execution_count": null,
   "id": "2f026a0d",
   "metadata": {},
   "outputs": [],
   "source": [
    "# Test 1: Two components\n",
    "test_loop1 = LOOP(sps, [\n",
    "    Component(\"Component A\", sps),\n",
    "    Component(\"Component B\", sps)\n",
    "], \"Test Loop\")\n",
    "test_loop1.block_diagram(transfer_functions=False)"
   ]
  },
  {
   "cell_type": "code",
   "execution_count": null,
   "id": "ee2cc818",
   "metadata": {},
   "outputs": [],
   "source": [
    "# Test 2: Three components\n",
    "test_loop1 = LOOP(sps, [\n",
    "    Component(\"Component A\", sps),\n",
    "    Component(\"Component B\", sps),\n",
    "    Component(\"Component C\", sps)\n",
    "], \"Test Loop\")\n",
    "test_loop1.block_diagram(transfer_functions=False)"
   ]
  },
  {
   "cell_type": "code",
   "execution_count": null,
   "id": "3ac910e1",
   "metadata": {},
   "outputs": [],
   "source": [
    "# Test 3: Four components\n",
    "test_loop1 = LOOP(sps, [\n",
    "    Component(\"Component A\", sps),\n",
    "    Component(\"Component B\", sps),\n",
    "    Component(\"Component C\", sps),\n",
    "    Component(\"Component D\", sps)\n",
    "], \"Test Loop\")\n",
    "test_loop1.block_diagram(transfer_functions=False)"
   ]
  },
  {
   "cell_type": "code",
   "execution_count": null,
   "id": "0f150299",
   "metadata": {},
   "outputs": [],
   "source": [
    "# Test 4: Five components\n",
    "test_loop1 = LOOP(sps, [\n",
    "    Component(\"Component A\", sps),\n",
    "    Component(\"Component B\", sps),\n",
    "    Component(\"Component C\", sps),\n",
    "    Component(\"Component D\", sps),\n",
    "    Component(\"Component E\", sps)\n",
    "], \"Test Loop\")\n",
    "test_loop1.block_diagram(transfer_functions=False)"
   ]
  },
  {
   "cell_type": "code",
   "execution_count": null,
   "id": "9c0f64e0",
   "metadata": {},
   "outputs": [],
   "source": [
    "# Test 5: Six components\n",
    "test_loop1 = LOOP(sps, [\n",
    "    Component(\"Component A\", sps),\n",
    "    Component(\"Component B\", sps),\n",
    "    Component(\"Component C\", sps),\n",
    "    Component(\"Component D\", sps),\n",
    "    Component(\"Component E\", sps),\n",
    "    Component(\"Component F\", sps)\n",
    "], \"Test Loop\")\n",
    "test_loop1.block_diagram(transfer_functions=False)"
   ]
  },
  {
   "cell_type": "code",
   "execution_count": null,
   "id": "996cb2d3",
   "metadata": {},
   "outputs": [],
   "source": [
    "comp_list = [\n",
    "    Component(\"Photoreceiver\", sps, tf='1/(s + 10)'),\n",
    "    Component(\"ADC\", sps, tf='0.5'),\n",
    "    Component(\"Mixer\", sps, tf='1'),\n",
    "    Component(\"LPF\", sps, tf='1/(0.001*s + 1)'),\n",
    "    Component(\"P-Controller\", sps, tf='10'),\n",
    "    Component(\"II-Controller\", sps, tf='5/s^2'),\n",
    "    Component(\"DAC\", sps, tf='(s + 1)/(s^2 + 0.1*s + 10)'),\n",
    "    Component(\"Laser\", sps, tf='1/(f^22 + 2f + 1)'),\n",
    "]\n",
    "\n",
    "loop1 = LOOP(sps, comp_list, \"Feedback loop\")\n",
    "loop1.block_diagram(transfer_functions=True)"
   ]
  },
  {
   "cell_type": "code",
   "execution_count": null,
   "id": "631ee9d5",
   "metadata": {},
   "outputs": [],
   "source": [
    "# Define components\n",
    "lpf1 = LPFComponent(\"Single-stage LPF 1\", sps, 5)\n",
    "lpf2 = LPFComponent(\"Single-stage LPF 2\", sps, 5)\n",
    "lpf2stage = TwoStageLPFComponent(\"2-Stage LPF\", sps, 5)\n",
    "\n",
    "# Build loops\n",
    "loop1 = LOOP(sps, [lpf1, lpf2])\n",
    "loop2 = LOOP(sps, [lpf2stage])"
   ]
  },
  {
   "cell_type": "code",
   "execution_count": null,
   "id": "140369c1",
   "metadata": {},
   "outputs": [],
   "source": [
    "loop1.block_diagram(transfer_functions=True, dpi=300)"
   ]
  },
  {
   "cell_type": "code",
   "execution_count": null,
   "id": "e73a1f4e",
   "metadata": {},
   "outputs": [],
   "source": [
    "frfr = np.logspace(np.log10(1e2), np.log10(1e7), int(1e5)) # Fourier frequency array (Hz)\n",
    "\n",
    "fig, axes = loop1.bode_plot(frfr)\n",
    "plt.show()"
   ]
  },
  {
   "cell_type": "code",
   "execution_count": null,
   "id": "0e6a4ff3",
   "metadata": {},
   "outputs": [],
   "source": [
    "fig, axes = loop1.bode_plot(frfr, label='loop1')\n",
    "loop2.bode_plot(frfr, axes=axes, label='loop2', ls='--')\n",
    "plt.show()"
   ]
  },
  {
   "cell_type": "code",
   "execution_count": null,
   "id": "2fd34ef7",
   "metadata": {},
   "outputs": [],
   "source": [
    "fig, axes = loop1.bode_plot(frfr, which='G', figsize=(5,3), label=False, title='Open-loop transfer function')\n",
    "plt.show()"
   ]
  },
  {
   "cell_type": "code",
   "execution_count": null,
   "id": "5de589a2",
   "metadata": {},
   "outputs": [],
   "source": [
    "fig, axes = loop1.nyquist_plot(frfr, arrow_scale=0.5, critical_point=True)\n",
    "plt.show()"
   ]
  },
  {
   "cell_type": "code",
   "execution_count": null,
   "id": "b149285c",
   "metadata": {},
   "outputs": [],
   "source": [
    "fig, axes = lpf1.bode_plot(frfr, figsize=(6,3))\n",
    "lpf2stage.bode_plot(frfr, axes=axes, ls='--', label=None)\n",
    "plt.show()"
   ]
  },
  {
   "cell_type": "code",
   "execution_count": null,
   "id": "54fe8603",
   "metadata": {},
   "outputs": [],
   "source": []
  }
 ],
 "metadata": {
  "kernelspec": {
   "display_name": "main",
   "language": "python",
   "name": "python3"
  },
  "language_info": {
   "codemirror_mode": {
    "name": "ipython",
    "version": 3
   },
   "file_extension": ".py",
   "mimetype": "text/x-python",
   "name": "python",
   "nbconvert_exporter": "python",
   "pygments_lexer": "ipython3",
   "version": "3.12.0"
  }
 },
 "nbformat": 4,
 "nbformat_minor": 5
}
