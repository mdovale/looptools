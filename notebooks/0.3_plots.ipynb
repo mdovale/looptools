{
 "cells": [
  {
   "cell_type": "code",
   "execution_count": null,
   "id": "8ef6e2f2",
   "metadata": {},
   "outputs": [],
   "source": [
    "import numpy as np\n",
    "import matplotlib.pyplot as plt\n",
    "from looptools.loop import LOOP\n",
    "from looptools.components import LPFComponent, TwoStageLPFComponent"
   ]
  },
  {
   "cell_type": "code",
   "execution_count": null,
   "id": "631ee9d5",
   "metadata": {},
   "outputs": [],
   "source": [
    "sps = 80e6 # Loop update frequency\n",
    "\n",
    "# Define components\n",
    "lpf1 = LPFComponent(\"Single-stage LPF #1\", sps, 5)\n",
    "lpf2 = LPFComponent(\"Single-stage LPF #2\", sps, 5)\n",
    "lpf2stage = TwoStageLPFComponent(\"2-Stage LPF\", sps, 5)\n",
    "\n",
    "# Build loops\n",
    "loop1 = LOOP(sps, [lpf1, lpf2])\n",
    "loop2 = LOOP(sps, [lpf2stage])"
   ]
  },
  {
   "cell_type": "code",
   "execution_count": null,
   "id": "e73a1f4e",
   "metadata": {},
   "outputs": [],
   "source": [
    "frfr = np.logspace(np.log10(1e2), np.log10(1e7), int(1e5)) # Fourier frequency array (Hz)\n",
    "\n",
    "fig, axes = loop1.bode_plot(frfr)\n",
    "plt.show()"
   ]
  },
  {
   "cell_type": "code",
   "execution_count": null,
   "id": "0e6a4ff3",
   "metadata": {},
   "outputs": [],
   "source": [
    "fig, axes = loop1.bode_plot(frfr, label='loop1')\n",
    "loop2.bode_plot(frfr, axes=axes, label='loop2', ls='--')\n",
    "plt.show()"
   ]
  },
  {
   "cell_type": "code",
   "execution_count": null,
   "id": "2fd34ef7",
   "metadata": {},
   "outputs": [],
   "source": [
    "fig, axes = loop1.bode_plot(frfr, which='G', figsize=(5,3), label=False, title='Open-loop transfer function')\n",
    "plt.show()"
   ]
  },
  {
   "cell_type": "code",
   "execution_count": null,
   "id": "b149285c",
   "metadata": {},
   "outputs": [],
   "source": [
    "fig, axes = lpf1.bode_plot(frfr, figsize=(6,3))\n",
    "lpf2stage.bode_plot(frfr, axes=axes, ls='--', label=None)\n",
    "plt.show()"
   ]
  },
  {
   "cell_type": "code",
   "execution_count": null,
   "id": "2d2bce7e",
   "metadata": {},
   "outputs": [],
   "source": []
  }
 ],
 "metadata": {
  "kernelspec": {
   "display_name": "main",
   "language": "python",
   "name": "python3"
  },
  "language_info": {
   "codemirror_mode": {
    "name": "ipython",
    "version": 3
   },
   "file_extension": ".py",
   "mimetype": "text/x-python",
   "name": "python",
   "nbconvert_exporter": "python",
   "pygments_lexer": "ipython3",
   "version": "3.12.0"
  }
 },
 "nbformat": 4,
 "nbformat_minor": 5
}
