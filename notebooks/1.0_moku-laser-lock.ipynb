{
 "cells": [
  {
   "cell_type": "code",
   "execution_count": null,
   "id": "d9fa8c89",
   "metadata": {},
   "outputs": [],
   "source": [
    "import numpy as np\n",
    "import matplotlib.pyplot as plt\n",
    "import looptools.loopmath as lm\n",
    "from looptools.mokulaserlock import MokuLaserLock\n",
    "from looptools.component import Component"
   ]
  },
  {
   "cell_type": "code",
   "execution_count": null,
   "id": "02010175",
   "metadata": {},
   "outputs": [],
   "source": [
    "sps = 80e6 # System clock rate\n",
    "frfr = np.logspace(np.log10(1e-3), np.log10(1e6), int(1e5)) # Fourier frequency array (Hz)\n",
    "frfr = frfr[0:-1]\n",
    "\n",
    "# Definition of the plant Component:\n",
    "nume = [-27391.4746505128605349, 28991.6861562978592701, 27391.5753081338189077, -28991.5850488191608747]\n",
    "deno = [1.0, -2.9907469440381682, 2.9815121426943869, -0.9907651980332260, 0.0, 0.0, 0.0, 0.0, 0.0, 0.0, 0.0, 0.0, 0.0, 0.0]\n",
    "Plant = Component(\"Plant\", sps, nume=nume, deno=deno)\n",
    "\n",
    "# Moku laser lock parameters:\n",
    "ll_parameters = {\n",
    "'Plant': Plant, # looptools Component specifying the plant\n",
    "'Amp_reference': 1.0, # Mixer local oscillator amplitude (Vpp)\n",
    "'Amp_input': 1.0, # Beatnote amplitude (Vpp)\n",
    "'LPF_cutoff': 0.25e6, # Butterworth LPF cutoff frequency \n",
    "'LPF_n': 4, # Butterworth LPF, number of cascaded stages\n",
    "'Cshift': 14, # Gain reduction stage, number of bits for LeftBitShift\n",
    "'Kp_db': -5, # P-gain (dB)\n",
    "'f_I': 800, # First integrator crossover frequency (Hz)\n",
    "'f_II': None, # Second integrator crossover frequency (Hz)\n",
    "'n_reg': 100, # DSP delay component (number of registers)\n",
    "'off': [None],\n",
    "'f_trans': None\n",
    "}\n",
    "\n",
    "ll = MokuLaserLock(\n",
    "    Plant = ll_parameters['Plant'],\n",
    "    Amp_reference = ll_parameters['Amp_reference'],\n",
    "    Amp_input = ll_parameters['Amp_input'],\n",
    "    LPF_cutoff = ll_parameters['LPF_cutoff'],\n",
    "    LPF_n = ll_parameters['LPF_n'],\n",
    "    Cshift = ll_parameters['Cshift'],\n",
    "    Kp_db = ll_parameters['Kp_db'],\n",
    "    f_I = ll_parameters['f_I'],\n",
    "    f_II = ll_parameters['f_II'],\n",
    "    n_reg = ll_parameters['n_reg'],\n",
    "    off = ll_parameters['off']\n",
    ")\n",
    "\n",
    "ugf, margin = lm.get_margin(ll.Gf(f=frfr), frfr, deg=True) # compute UGF and phase margin\n",
    "print(f\"Unity gain frequency = {ugf:.4e} Hz; Phase margin = {margin:.4f} degrees\")"
   ]
  },
  {
   "cell_type": "code",
   "execution_count": null,
   "id": "13eb4957",
   "metadata": {},
   "outputs": [],
   "source": [
    "ll.block_diagram(filename='block-diagram.tex')"
   ]
  },
  {
   "cell_type": "code",
   "execution_count": null,
   "id": "425a6810",
   "metadata": {},
   "outputs": [],
   "source": [
    "ax = ll.components_dict['Mixer'].bode_plot(frfr, dB=False)\n",
    "plt.show()"
   ]
  },
  {
   "cell_type": "code",
   "execution_count": null,
   "id": "7fb6fc97",
   "metadata": {},
   "outputs": [],
   "source": [
    "ax = ll.components_dict['LPF'].bode_plot(frfr, dB=True)\n",
    "plt.show()"
   ]
  },
  {
   "cell_type": "code",
   "execution_count": null,
   "id": "330052b7",
   "metadata": {},
   "outputs": [],
   "source": [
    "ax = ll.components_dict['Servo'].bode_plot(frfr, dB=True)\n",
    "plt.show()"
   ]
  },
  {
   "cell_type": "code",
   "execution_count": null,
   "id": "f4f8c930",
   "metadata": {},
   "outputs": [],
   "source": [
    "ax = ll.components_dict['Plant'].bode_plot(frfr, dB=True)\n",
    "plt.show()"
   ]
  },
  {
   "cell_type": "code",
   "execution_count": null,
   "id": "1c256db5",
   "metadata": {},
   "outputs": [],
   "source": [
    "ax = ll.bode_plot(frfr, dB=True)\n",
    "ax[0].axvline(x=ugf, ls='--', c='gray', lw=1)\n",
    "ax[1].axvline(x=ugf, ls='--', c='gray', lw=1)\n",
    "plt.show()"
   ]
  },
  {
   "cell_type": "code",
   "execution_count": null,
   "id": "015bf379",
   "metadata": {},
   "outputs": [],
   "source": [
    "ax = ll.nyquist_plot(np.logspace(3,6,int(1e5)), which='G', logy=True, logx=True, arrow_frequency=ugf, critical_point=True, label=False)\n",
    "plt.show()"
   ]
  }
 ],
 "metadata": {
  "kernelspec": {
   "display_name": "main",
   "language": "python",
   "name": "python3"
  },
  "language_info": {
   "codemirror_mode": {
    "name": "ipython",
    "version": 3
   },
   "file_extension": ".py",
   "mimetype": "text/x-python",
   "name": "python",
   "nbconvert_exporter": "python",
   "pygments_lexer": "ipython3",
   "version": "3.12.0"
  }
 },
 "nbformat": 4,
 "nbformat_minor": 5
}
