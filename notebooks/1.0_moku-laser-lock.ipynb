{
 "cells": [
  {
   "cell_type": "code",
   "execution_count": null,
   "id": "d9fa8c89",
   "metadata": {},
   "outputs": [],
   "source": [
    "import numpy as np\n",
    "import matplotlib.pyplot as plt\n",
    "from looptools.loopmath import get_margin\n",
    "from looptools.mokulaserlock import MokuLaserLock"
   ]
  },
  {
   "cell_type": "code",
   "execution_count": null,
   "id": "8dbe38d1",
   "metadata": {},
   "outputs": [],
   "source": [
    "sps = 80e6 # System clock rate\n",
    "frfr = np.logspace(np.log10(1e-6), np.log10(sps/2), int(1e5)) # Fourier frequency array (Hz)\n",
    "frfr = frfr[0:-1]"
   ]
  },
  {
   "cell_type": "code",
   "execution_count": null,
   "id": "02010175",
   "metadata": {},
   "outputs": [],
   "source": [
    "ll_parameters = {\n",
    "    \"Amp\": 1e-3,\n",
    "    \"Klf\": 1,\n",
    "    \"nlf\": 3,\n",
    "    \"Kp\": -3,\n",
    "    \"Ki\": -15,\n",
    "    \"Kii\": -20,\n",
    "    \"Kdac\": 1,\n",
    "    \"Kplant\": 14e6,\n",
    "    \"Fplant\": 10e6,\n",
    "    \"extrapolate\": [True, 1e0],\n",
    "}\n",
    "\n",
    "ll = MokuLaserLock(\n",
    "    sps, \n",
    "    Amp=ll_parameters[\"Amp\"],\n",
    "    Klf=ll_parameters[\"Klf\"],\n",
    "    nlf=ll_parameters[\"nlf\"],\n",
    "    Kp=ll_parameters[\"Kp\"], \n",
    "    Ki=ll_parameters[\"Ki\"],   \n",
    "    Kii=ll_parameters[\"Kii\"],\n",
    "    Kdac=ll_parameters[\"Kdac\"],\n",
    "    Kplant=ll_parameters[\"Kplant\"], \n",
    "    Fplant=ll_parameters[\"Fplant\"],\n",
    "    extrapolate=ll_parameters[\"extrapolate\"]\n",
    ")\n",
    "\n",
    "ugf, margin = get_margin(ll.Gf(f=frfr), frfr, deg=True) # compute UGF and phase margin\n",
    "print(f\"Unity gain frequency = {ugf:.4e} Hz; Phase margin = {margin:.4f} degrees\")"
   ]
  },
  {
   "cell_type": "code",
   "execution_count": null,
   "id": "13eb4957",
   "metadata": {},
   "outputs": [],
   "source": [
    "ll.block_diagram()"
   ]
  },
  {
   "cell_type": "code",
   "execution_count": null,
   "id": "9ea699f4",
   "metadata": {},
   "outputs": [],
   "source": [
    "ll.pic.write_image('test.pdf')"
   ]
  },
  {
   "cell_type": "code",
   "execution_count": null,
   "id": "1c256db5",
   "metadata": {},
   "outputs": [],
   "source": [
    "fig, ax = ll.bode_plot(frfr)\n",
    "ax[0].axvline(x=ugf, ls='--', c='gray', lw=1)\n",
    "ax[1].axvline(x=ugf, ls='--', c='gray', lw=1)\n",
    "plt.show()"
   ]
  },
  {
   "cell_type": "code",
   "execution_count": null,
   "id": "015bf379",
   "metadata": {},
   "outputs": [],
   "source": [
    "fig, ax = ll.nyquist_plot(frfr, logy=True, logx=True, arrow_frequency=100, critical_point=True)\n",
    "plt.show()"
   ]
  },
  {
   "cell_type": "code",
   "execution_count": null,
   "id": "f562c7a3",
   "metadata": {},
   "outputs": [],
   "source": [
    "ll.property_list"
   ]
  },
  {
   "cell_type": "code",
   "execution_count": null,
   "id": "b86aa67d",
   "metadata": {},
   "outputs": [],
   "source": []
  }
 ],
 "metadata": {
  "kernelspec": {
   "display_name": "main",
   "language": "python",
   "name": "python3"
  },
  "language_info": {
   "codemirror_mode": {
    "name": "ipython",
    "version": 3
   },
   "file_extension": ".py",
   "mimetype": "text/x-python",
   "name": "python",
   "nbconvert_exporter": "python",
   "pygments_lexer": "ipython3",
   "version": "3.12.0"
  }
 },
 "nbformat": 4,
 "nbformat_minor": 5
}
