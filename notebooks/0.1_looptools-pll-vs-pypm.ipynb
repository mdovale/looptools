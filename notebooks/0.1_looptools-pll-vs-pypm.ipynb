{
 "cells": [
  {
   "cell_type": "code",
   "execution_count": null,
   "id": "be4e9697",
   "metadata": {},
   "outputs": [],
   "source": [
    "import numpy as np\n",
    "import matplotlib.pyplot as plt\n",
    "import looptools.pll as pll\n",
    "from looptools.loopmath import get_margin\n",
    "import pypm.pm.pll as alt_pll\n",
    "from looptools.plots import default_rc\n",
    "plt.rcParams.update(default_rc)\n",
    "\n",
    "import logging\n",
    "logging.basicConfig(\n",
    "    format='%(asctime)s %(levelname)-8s %(message)s',\n",
    "    level=logging.INFO,\n",
    "    datefmt='%Y-%m-%d %H:%M:%S'\n",
    ")"
   ]
  },
  {
   "cell_type": "code",
   "execution_count": null,
   "id": "cdc1258f",
   "metadata": {},
   "outputs": [],
   "source": [
    "sps = 80e6 # PLL clock rate\n",
    "frfr = np.logspace(np.log10(1e-6), np.log10(1e6), int(1e5)) # Fourier frequency array (Hz)"
   ]
  },
  {
   "cell_type": "code",
   "execution_count": null,
   "id": "08ada98b",
   "metadata": {},
   "outputs": [],
   "source": [
    "parameters_pll = {\n",
    "    \"Amp\": 1e-4,     # normalized signal amplitude\n",
    "    \"Cshift\": 19,        # Gain bit shift (right)\n",
    "    \"Klf\": 5,            # LF bit shift (right) 5\n",
    "    \"twostages\":True,    # Two stages for LF\n",
    "    \"Kp\": 18,            # P bit shift (left) 18\n",
    "    \"Ki\": 4,             # I bit shift (left) 4\n",
    "    \"n_reg\": 10          # Number of registers\n",
    "}\n",
    "\n",
    "pll_1 = pll.PLL(\n",
    "    sps, \n",
    "    parameters_pll[\"Amp\"], \n",
    "    parameters_pll[\"Cshift\"], \n",
    "    parameters_pll[\"Klf\"], \n",
    "    parameters_pll[\"Kp\"], \n",
    "    parameters_pll[\"Ki\"], \n",
    "    twostages=parameters_pll[\"twostages\"],\n",
    "    n_reg=parameters_pll[\"n_reg\"]\n",
    ")\n",
    "\n",
    "pll_2 = alt_pll.PLL(\n",
    "    sps, \n",
    "    parameters_pll[\"Amp\"], \n",
    "    parameters_pll[\"Cshift\"], \n",
    "    parameters_pll[\"Klf\"], \n",
    "    parameters_pll[\"Kp\"], \n",
    "    parameters_pll[\"Ki\"], \n",
    "    twostages=parameters_pll[\"twostages\"],\n",
    "    n_reg=parameters_pll[\"n_reg\"]\n",
    ")\n",
    "\n",
    "ugf, margin = get_margin(pll_1.Gf(f=frfr), frfr, deg=True) # compute UGF and phase margin"
   ]
  },
  {
   "cell_type": "code",
   "execution_count": null,
   "id": "5f5d5f41",
   "metadata": {},
   "outputs": [],
   "source": [
    "def loop_bode_plot(frfr, loop, loop2=None):\n",
    "    figsize=(6,4)\n",
    "    dpi=300\n",
    "    fontsize=8\n",
    "    linewidth=2\n",
    "\n",
    "    fig, (ax1, ax2) = plt.subplots(2,1, figsize=figsize, dpi=dpi);\n",
    "    ax1.loglog(frfr, np.abs(loop.Gf(f=frfr)), linewidth=linewidth, color=\"royalblue\", label=\"Open-loop transfer function\")\n",
    "    ax2.semilogx(frfr, np.angle(loop.Gf(f=frfr), deg=True), linewidth=linewidth, color=\"royalblue\")\n",
    "    ax1.loglog(frfr, np.abs(loop.Hf(f=frfr)), linewidth=linewidth, color=\"lime\", label=\"System function\", ls='-')\n",
    "    ax2.semilogx(frfr, np.angle(loop.Hf(f=frfr), deg=True), linewidth=linewidth, color=\"lime\", ls='-')\n",
    "    ax1.loglog(frfr, np.abs(loop.Ef(f=frfr)), linewidth=linewidth, color=\"tomato\", label=\"Error function\", ls='-')\n",
    "    ax2.semilogx(frfr, np.angle(loop.Ef(f=frfr), deg=True), linewidth=linewidth, color=\"tomato\", ls='-')\n",
    "    if loop2 is not None:\n",
    "        ax1.loglog(frfr, np.abs(loop2.Gf(f=frfr)), linewidth=1.0, color=\"black\", ls='--')\n",
    "        ax2.semilogx(frfr, np.angle(loop2.Gf(f=frfr), deg=True), linewidth=1.0, color=\"black\", ls='--')\n",
    "        ax1.loglog(frfr, np.abs(loop2.Hf(f=frfr)), linewidth=1.0, color=\"black\", ls='--')\n",
    "        ax2.semilogx(frfr, np.angle(loop2.Hf(f=frfr), deg=True), linewidth=1.0, color=\"black\", ls='--')\n",
    "        ax1.loglog(frfr, np.abs(loop2.Ef(f=frfr)), linewidth=1.0, color=\"black\", ls='--')\n",
    "        ax2.semilogx(frfr, np.angle(loop2.Ef(f=frfr), deg=True), linewidth=1.0, color=\"black\", ls='--')\n",
    "    for ax in (ax1, ax2):\n",
    "        ax.axvline(ugf, color='k', ls='--', label='Bandwidth')\n",
    "    ax2.set_xlabel(\"Frequency (Hz)\", fontsize=fontsize)\n",
    "    ax1.set_ylabel(\"Magnitude\", fontsize=fontsize)\n",
    "    ax2.set_ylabel(\"Phase (deg)\", fontsize=fontsize)\n",
    "    ax1.axes.xaxis.set_ticklabels([])\n",
    "    ax1.tick_params(labelsize=fontsize)\n",
    "    ax2.tick_params(labelsize=fontsize)\n",
    "    ax1.grid()\n",
    "    ax2.grid()\n",
    "    ax1.set_xlim(frfr[0],frfr[-1])\n",
    "    ax2.set_xlim(frfr[0],frfr[-1])\n",
    "    ax1.legend(loc='best', edgecolor='black', fancybox=True, shadow=True, framealpha=1, fontsize=fontsize-3, handlelength=2.9)\n",
    "    fig.tight_layout()\n",
    "    fig.align_ylabels()\n",
    "\n",
    "    return fig\n",
    "\n",
    "def get_colors_from_colormap(num_lines, colormap_name='viridis'):\n",
    "    colormap = plt.get_cmap(colormap_name)\n",
    "    colors = [colormap(i) for i in np.linspace(0, 1, num_lines)]\n",
    "    return colors"
   ]
  },
  {
   "cell_type": "code",
   "execution_count": null,
   "id": "6a0aa3c0",
   "metadata": {},
   "outputs": [],
   "source": [
    "fig = loop_bode_plot(frfr, pll_1, pll_2)"
   ]
  },
  {
   "cell_type": "code",
   "execution_count": null,
   "id": "f8a22421",
   "metadata": {},
   "outputs": [],
   "source": []
  },
  {
   "cell_type": "code",
   "execution_count": null,
   "id": "04252661",
   "metadata": {},
   "outputs": [],
   "source": []
  }
 ],
 "metadata": {
  "kernelspec": {
   "display_name": "main",
   "language": "python",
   "name": "python3"
  },
  "language_info": {
   "codemirror_mode": {
    "name": "ipython",
    "version": 3
   },
   "file_extension": ".py",
   "mimetype": "text/x-python",
   "name": "python",
   "nbconvert_exporter": "python",
   "pygments_lexer": "ipython3",
   "version": "3.12.0"
  }
 },
 "nbformat": 4,
 "nbformat_minor": 5
}
