{
 "cells": [
  {
   "cell_type": "code",
   "execution_count": null,
   "id": "ede54f5b",
   "metadata": {},
   "outputs": [],
   "source": [
    "import numpy as np\n",
    "import matplotlib.pyplot as plt\n",
    "from looptools.loop import LOOP\n",
    "from looptools.component import Component\n",
    "from looptools.dimension import Dimension\n",
    "from looptools.components import PIControllerComponent, DoubleIntegratorComponent, PIIControllerComponent\n",
    "from looptools.loopmath import db_to_log2_gain, gain_for_crossover_frequency, add_transfer_function"
   ]
  },
  {
   "cell_type": "code",
   "execution_count": null,
   "id": "afcac0a2",
   "metadata": {},
   "outputs": [],
   "source": [
    "# Loop sample rate\n",
    "sps = 80e6\n",
    "\n",
    "# Define gain parameters\n",
    "Kp_log2 = -10\n",
    "Ki_log2 = -15\n",
    "Kii_log2 = -20\n",
    "\n",
    "# Double integrator extrapolation settings\n",
    "extrapolate = (True, 1)\n",
    "\n",
    "# Frequency range for Bode plot\n",
    "frfr = np.logspace(np.log10(1e-6), np.log10(sps/2), int(1e5))\n",
    "frfr = frfr[0:-1]\n",
    "\n",
    "# Define controllers\n",
    "pi = PIControllerComponent(\"P\", sps, Kp_log2, -np.inf)\n",
    "ii = DoubleIntegratorComponent(\"Double I\", sps, Ki_log2, Kii_log2, extrapolate)\n",
    "pii_1 = pi + ii\n",
    "pii_2 = PIIControllerComponent(\"PII\", sps, Kp_log2, Ki_log2, Kii_log2, extrapolate)\n",
    "\n",
    "# Build composite loop\n",
    "loop1 = LOOP(sps, [pii_1])\n",
    "loop2 = LOOP(sps, [pii_2])\n",
    "\n",
    "# Plot Bode diagrams\n",
    "fig, axes = loop1.bode_plot(frfr, label='P + Double I')\n",
    "loop2.bode_plot(frfr, axes=axes, label='PII', ls='--')\n",
    "plt.show()"
   ]
  },
  {
   "cell_type": "code",
   "execution_count": null,
   "id": "93bbb503",
   "metadata": {},
   "outputs": [],
   "source": [
    "# Plot Nyquist diagrams\n",
    "fig, ax = loop1.nyquist_plot(frfr, label='P + Double I', logy=True, logx=True, alpha=0.5, critical_point=True)\n",
    "loop2.nyquist_plot(frfr, ax=ax, label='PII', ls=':')\n",
    "plt.show()"
   ]
  },
  {
   "cell_type": "code",
   "execution_count": null,
   "id": "6bd5a407",
   "metadata": {},
   "outputs": [],
   "source": [
    "# Test of loopmath::gain_for_crossover_frequency\n",
    "\n",
    "sps = 80e6\n",
    "frfr = np.logspace(np.log10(1e-6), np.log10(sps/2), int(1e5))\n",
    "frfr = frfr[0:-1]\n",
    "\n",
    "Kp_db = 20\n",
    "f_cross = 1.0e3\n",
    "Kp_log2 = db_to_log2_gain(Kp_db)\n",
    "Kp = 2 ** Kp_log2\n",
    "\n",
    "unit = Dimension([\"cycle\"], [\"s\", \"rad\"])\n",
    "\n",
    "# === Additive Structure: P + I ===\n",
    "Ki_log2_add = gain_for_crossover_frequency(Kp_log2, sps, f_cross, kind='I', structure='add')\n",
    "Ki_add = 2 ** Ki_log2_add\n",
    "\n",
    "P_add = Component(\"P\", sps, np.array([Kp]), np.array([1.0]), unit=unit)\n",
    "I_add = Component(\"I\", sps, np.array([Ki_add]), np.array([1.0, -1.0]), unit=unit)\n",
    "\n",
    "PI_add = P_add + I_add\n",
    "\n",
    "loop_add = LOOP(sps)\n",
    "loop_add.add_component(PI_add, loop_update=True)\n",
    "\n",
    "# === Multiplicative Structure: P * (1 + I) ===\n",
    "Ki_log2_mul = gain_for_crossover_frequency(Kp_log2, sps, f_cross, kind='I', structure='mul')\n",
    "Ki_mul = 2 ** Ki_log2_mul\n",
    "\n",
    "P_mul = Component(\"P\", sps, np.array([Kp]), np.array([1.0]), unit=unit)\n",
    "I_mul = Component(\"I\", sps, np.array([Ki_mul]), np.array([1.0, -1.0]), unit=unit)\n",
    "one = Component(\"One\", sps, np.array([1.0]), np.array([1.0]), unit=unit)\n",
    "\n",
    "one_plus_I = one + I_mul\n",
    "PI_mul = P_mul * one_plus_I\n",
    "\n",
    "loop_mul = LOOP(sps)\n",
    "loop_mul.add_component(PI_mul, loop_update=True)\n",
    "\n",
    "# === Plot Comparison ===\n",
    "fig, axes = loop_add.bode_plot(frfr, which='all', label=\"P + I\", dB=True)\n",
    "loop_mul.bode_plot(frfr, which='all', label=\"P * (1 + I)\", axes=axes, ls='--', dB=True)\n",
    "plt.show()"
   ]
  },
  {
   "cell_type": "code",
   "execution_count": null,
   "id": "e0c52dc9",
   "metadata": {},
   "outputs": [],
   "source": []
  }
 ],
 "metadata": {
  "kernelspec": {
   "display_name": "main",
   "language": "python",
   "name": "python3"
  },
  "language_info": {
   "codemirror_mode": {
    "name": "ipython",
    "version": 3
   },
   "file_extension": ".py",
   "mimetype": "text/x-python",
   "name": "python",
   "nbconvert_exporter": "python",
   "pygments_lexer": "ipython3",
   "version": "3.12.0"
  }
 },
 "nbformat": 4,
 "nbformat_minor": 5
}
