{
 "cells": [
  {
   "cell_type": "code",
   "execution_count": null,
   "id": "ede54f5b",
   "metadata": {},
   "outputs": [],
   "source": [
    "import numpy as np\n",
    "import matplotlib.pyplot as plt\n",
    "from looptools.loop import LOOP\n",
    "from looptools.components import PIControllerComponent, DoubleIntegratorComponent, PIIControllerComponent"
   ]
  },
  {
   "cell_type": "code",
   "execution_count": null,
   "id": "afcac0a2",
   "metadata": {},
   "outputs": [],
   "source": [
    "# Loop sample rate\n",
    "sps = 80e6\n",
    "\n",
    "# Define gain parameters\n",
    "Kp_log2 = -10\n",
    "Ki_log2 = -15\n",
    "Kii_log2 = -20\n",
    "\n",
    "# Double integrator extrapolation settings\n",
    "extrapolate = (True, 1)\n",
    "\n",
    "# Frequency range for Bode plot\n",
    "frfr = np.logspace(np.log10(1e-6), np.log10(sps/2), int(1e5))\n",
    "frfr = frfr[0:-1]\n",
    "\n",
    "# Define controllers\n",
    "pi = PIControllerComponent(\"P\", sps, Kp_log2, -np.inf)\n",
    "ii = DoubleIntegratorComponent(\"Double I\", sps, Ki_log2, Kii_log2, extrapolate)\n",
    "pii_1 = pi + ii\n",
    "pii_2 = PIIControllerComponent(\"PII\", sps, Kp_log2, Ki_log2, Kii_log2, extrapolate)\n",
    "\n",
    "# Build composite loop\n",
    "loop1 = LOOP(sps, [pii_1])\n",
    "loop2 = LOOP(sps, [pii_2])\n",
    "\n",
    "# Plot Bode diagrams\n",
    "fig, axes = loop1.bode_plot(frfr, label='P + Double I')\n",
    "loop2.bode_plot(frfr, axes=axes, label='PII', ls='--')\n",
    "plt.show()"
   ]
  },
  {
   "cell_type": "code",
   "execution_count": null,
   "id": "93bbb503",
   "metadata": {},
   "outputs": [],
   "source": [
    "# Plot Nyquist diagrams\n",
    "fig, ax = loop1.nyquist_plot(frfr, label='P + Double I', logy=True, logx=True, alpha=0.5, critical_point=True)\n",
    "loop2.nyquist_plot(frfr, ax=ax, label='PII', ls=':')\n",
    "plt.show()"
   ]
  },
  {
   "cell_type": "code",
   "execution_count": null,
   "id": "6bd5a407",
   "metadata": {},
   "outputs": [],
   "source": []
  }
 ],
 "metadata": {
  "kernelspec": {
   "display_name": "main",
   "language": "python",
   "name": "python3"
  },
  "language_info": {
   "codemirror_mode": {
    "name": "ipython",
    "version": 3
   },
   "file_extension": ".py",
   "mimetype": "text/x-python",
   "name": "python",
   "nbconvert_exporter": "python",
   "pygments_lexer": "ipython3",
   "version": "3.12.0"
  }
 },
 "nbformat": 4,
 "nbformat_minor": 5
}
