{
 "cells": [
  {
   "cell_type": "code",
   "execution_count": null,
   "id": "7493409a",
   "metadata": {},
   "outputs": [],
   "source": [
    "import numpy as np\n",
    "import matplotlib.pyplot as plt\n",
    "from looptools.component import Component\n",
    "from looptools.components import PIControllerComponent\n",
    "from looptools.loop import LOOP\n",
    "\n",
    "sps = 80e6 # Loop update frequency (Hz)\n",
    "frfr = np.logspace(np.log10(1e2), np.log10(40e6), int(1e5)) # Fourier frequency array (Hz)\n",
    "\n",
    "# Define components\n",
    "plant = Component(\"Plant\", sps, tf=\"1/(s^2 + 10*s + 20)\")\n",
    "sensor = Component(\"Sensor\", sps, tf=1.0)\n",
    "controller = PIControllerComponent(\"Controller\", sps, Kp=3, Ki=-3)\n",
    "\n",
    "# Build loop\n",
    "loop = LOOP(sps, [plant, sensor, controller])\n",
    "\n",
    "# Analyze\n",
    "fig, ax = loop.bode_plot(frfr)\n",
    "plt.show()"
   ]
  }
 ],
 "metadata": {
  "kernelspec": {
   "display_name": "main",
   "language": "python",
   "name": "python3"
  },
  "language_info": {
   "codemirror_mode": {
    "name": "ipython",
    "version": 3
   },
   "file_extension": ".py",
   "mimetype": "text/x-python",
   "name": "python",
   "nbconvert_exporter": "python",
   "pygments_lexer": "ipython3",
   "version": "3.12.0"
  }
 },
 "nbformat": 4,
 "nbformat_minor": 5
}
