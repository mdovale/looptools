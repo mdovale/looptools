{
 "cells": [
  {
   "cell_type": "code",
   "execution_count": null,
   "id": "7493409a",
   "metadata": {},
   "outputs": [],
   "source": [
    "import numpy as np\n",
    "import matplotlib.pyplot as plt\n",
    "from looptools.component import Component\n",
    "from looptools.components import PIControllerComponent\n",
    "from looptools.loop import LOOP\n",
    "\n",
    "sps = 80e6 # Loop update frequency (Hz)\n",
    "frfr = np.logspace(np.log10(1e2), np.log10(40e6), int(1e5)) # Fourier frequency array (Hz)\n",
    "frfr = frfr[0:-1]\n",
    "\n",
    "# Define components\n",
    "plant = Component(\"Plant\", sps, tf=\"1/(s^2 + 10*s - 20)\")\n",
    "sensor = Component(\"Sensor\", sps, tf=\"s/(s^2 + 2*s - 3.5)\")\n",
    "controller = PIControllerComponent(\"Controller\", sps, Kp=3, Ki=-3)\n",
    "\n",
    "# Build loop\n",
    "loop = LOOP(sps, [plant, sensor, controller])\n",
    "\n",
    "# Analyze\n",
    "fig, ax = loop.bode_plot(frfr)\n",
    "plt.show()\n",
    "\n",
    "fig, ax = loop.nyquist_plot(frfr, which='G', logy=True, logx=True, critical_point=True)\n",
    "plt.show()"
   ]
  },
  {
   "cell_type": "code",
   "execution_count": null,
   "id": "d47106e1",
   "metadata": {},
   "outputs": [],
   "source": [
    "plant.bode_plot(frfr)\n",
    "sensor.bode_plot(frfr)\n",
    "controller.bode_plot(frfr)\n",
    "\n",
    "plt.show()"
   ]
  },
  {
   "cell_type": "code",
   "execution_count": null,
   "id": "23ca9a07",
   "metadata": {},
   "outputs": [],
   "source": []
  }
 ],
 "metadata": {
  "kernelspec": {
   "display_name": "main",
   "language": "python",
   "name": "python3"
  },
  "language_info": {
   "codemirror_mode": {
    "name": "ipython",
    "version": 3
   },
   "file_extension": ".py",
   "mimetype": "text/x-python",
   "name": "python",
   "nbconvert_exporter": "python",
   "pygments_lexer": "ipython3",
   "version": "3.12.0"
  }
 },
 "nbformat": 4,
 "nbformat_minor": 5
}
