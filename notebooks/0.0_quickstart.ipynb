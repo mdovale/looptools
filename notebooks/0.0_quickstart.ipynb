{
 "cells": [
  {
   "cell_type": "code",
   "execution_count": null,
   "id": "7493409a",
   "metadata": {},
   "outputs": [],
   "source": [
    "import numpy as np\n",
    "import matplotlib.pyplot as plt\n",
    "from looptools.component import Component\n",
    "from looptools.components import PIIControllerComponent\n",
    "from looptools.loop import LOOP\n",
    "import looptools.loopmath as lm\n",
    "\n",
    "# Define loop parameters\n",
    "sps = 80e6  # Loop update frequency in Hz\n",
    "frfr = np.logspace(np.log10(1e0), np.log10(40e6), int(1e5))[:-1]  # Frequency array (Hz)\n",
    "\n",
    "# Define Plant using Laplace-domain string (auto-discretized)\n",
    "w_n = 2 * np.pi * 10e3 # 10 kHz resonance\n",
    "zeta = 0.05 # damping ratio\n",
    "plant = Component(\"Plant\", sps=sps, tf=f\"{w_n**2} / (s**2 + {2*zeta*w_n}*s + {w_n**2})\", domain='s')\n",
    "\n",
    "# Define Sensor using z-domain string (explicit difference equation)\n",
    "sensor = Component(\"Sensor\", sps=sps, tf=\"(0.391 + 0.391*z**-1) / (1 - 0.218*z**-1)\", domain='z')\n",
    "\n",
    "# Compute the P-servo log2 gain from a dB value\n",
    "p_log2_gain = lm.db_to_log2_gain(80)\n",
    "\n",
    "# Compute the integrator log2 gains for a certain cross-over frequency with the P-servo\n",
    "i_log2_gain, ii_log2_gain = lm.gain_for_crossover_frequency(p_log2_gain, sps, (1e4, 1e1), kind='II')\n",
    "\n",
    "# Define PI controller component with those gains\n",
    "controller = PIIControllerComponent(\"Controller\", sps=sps, Kp=p_log2_gain, Ki=i_log2_gain, Kii=ii_log2_gain)\n",
    "\n",
    "# Build the loop\n",
    "loop = LOOP(sps, [plant, sensor, controller], name=\"My Loop\")\n",
    "\n",
    "# Visualize block diagram\n",
    "loop.block_diagram(dpi=200)\n",
    "\n",
    "# Bode plot of open-loop gain\n",
    "fig, ax = loop.bode_plot(frfr)\n",
    "plt.show()\n",
    "\n",
    "# Nyquist plot of open-loop gain\n",
    "fig, ax = loop.nyquist_plot(frfr, which='G', logy=True, logx=True, critical_point=True)\n",
    "plt.show()"
   ]
  },
  {
   "cell_type": "code",
   "execution_count": null,
   "id": "d47106e1",
   "metadata": {},
   "outputs": [],
   "source": [
    "plant.bode_plot(frfr, dB=True)\n",
    "sensor.bode_plot(frfr, dB=True)\n",
    "controller.bode_plot(frfr, dB=True)\n",
    "\n",
    "plt.show()"
   ]
  },
  {
   "cell_type": "code",
   "execution_count": null,
   "id": "c7c91375",
   "metadata": {},
   "outputs": [],
   "source": []
  },
  {
   "cell_type": "code",
   "execution_count": null,
   "id": "4b95d224",
   "metadata": {},
   "outputs": [],
   "source": []
  },
  {
   "cell_type": "code",
   "execution_count": null,
   "id": "c8c6074e",
   "metadata": {},
   "outputs": [],
   "source": []
  },
  {
   "cell_type": "code",
   "execution_count": null,
   "id": "50b84016",
   "metadata": {},
   "outputs": [],
   "source": []
  }
 ],
 "metadata": {
  "kernelspec": {
   "display_name": "main",
   "language": "python",
   "name": "python3"
  },
  "language_info": {
   "codemirror_mode": {
    "name": "ipython",
    "version": 3
   },
   "file_extension": ".py",
   "mimetype": "text/x-python",
   "name": "python",
   "nbconvert_exporter": "python",
   "pygments_lexer": "ipython3",
   "version": "3.12.0"
  }
 },
 "nbformat": 4,
 "nbformat_minor": 5
}
