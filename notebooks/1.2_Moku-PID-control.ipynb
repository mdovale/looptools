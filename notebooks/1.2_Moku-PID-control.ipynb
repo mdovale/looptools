{
 "cells": [
  {
   "cell_type": "code",
   "execution_count": null,
   "id": "9134ef4b",
   "metadata": {},
   "outputs": [],
   "source": [
    "import numpy as np\n",
    "import matplotlib.pyplot as plt\n",
    "from looptools.components import MokuPIDSymbolicController, MokuPIDController"
   ]
  },
  {
   "cell_type": "code",
   "execution_count": null,
   "id": "afe19c8a",
   "metadata": {},
   "outputs": [],
   "source": [
    "sps = 80e6\n",
    "frfr = np.logspace(np.log10(1e-1), np.log10(1e6), int(1e5))\n",
    "frfr = frfr[0:-1]\n",
    "\n",
    "moku_pid = MokuPIDController(\"Moku PID\", sps, -10, 1e3, None, 1e5, f_trans=1e2)\n",
    "moku_pid_sym = MokuPIDSymbolicController(\"Moku PID Symbolic\", sps, -10, 1e3, None, 1e5)\n",
    "\n",
    "fig, ax = moku_pid.bode_plot(frfr, label='Numeric')\n",
    "moku_pid_sym.bode_plot(frfr, axes=ax, label='Symbolic', ls='--')\n",
    "plt.show()"
   ]
  },
  {
   "cell_type": "code",
   "execution_count": null,
   "id": "853f1050",
   "metadata": {},
   "outputs": [],
   "source": []
  }
 ],
 "metadata": {
  "kernelspec": {
   "display_name": "main",
   "language": "python",
   "name": "python3"
  },
  "language_info": {
   "codemirror_mode": {
    "name": "ipython",
    "version": 3
   },
   "file_extension": ".py",
   "mimetype": "text/x-python",
   "name": "python",
   "nbconvert_exporter": "python",
   "pygments_lexer": "ipython3",
   "version": "3.12.0"
  }
 },
 "nbformat": 4,
 "nbformat_minor": 5
}
