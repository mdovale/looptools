{
 "cells": [
  {
   "cell_type": "code",
   "execution_count": null,
   "id": "9134ef4b",
   "metadata": {},
   "outputs": [],
   "source": [
    "import numpy as np\n",
    "import matplotlib.pyplot as plt\n",
    "from scipy.optimize import minimize\n",
    "from looptools.components import MokuPIDSymbolicController, MokuPIDController"
   ]
  },
  {
   "cell_type": "code",
   "execution_count": null,
   "id": "afe19c8a",
   "metadata": {},
   "outputs": [],
   "source": [
    "sps = 80e6\n",
    "frfr = np.logspace(np.log10(1e-1), np.log10(1e6), int(1e5))\n",
    "frfr = frfr[0:-1]\n",
    "\n",
    "moku_pid = MokuPIDController(\"Moku PID\", sps, -10, 1e3, None, 1e5, f_trans=1e2)\n",
    "moku_pid_sym = MokuPIDSymbolicController(\"Moku PID Symbolic\", sps, -10, 1e3, None, 1e5)\n",
    "\n",
    "ax = moku_pid.bode_plot(frfr, label='Numeric')\n",
    "moku_pid_sym.bode_plot(frfr, axes=ax, label='Symbolic', ls='--')\n",
    "plt.show()"
   ]
  },
  {
   "cell_type": "code",
   "execution_count": null,
   "id": "853f1050",
   "metadata": {},
   "outputs": [],
   "source": [
    "def moku_pid_tf_model(f):\n",
    "    \"\"\"\n",
    "    Transfer function model taken from:\n",
    "    https://liquidinstruments.com/case-studies/precision-laser-noise-suppression-in-optical-phase-locking/\n",
    "    \"\"\"\n",
    "    f = np.asarray(f)\n",
    "    omega = 2 * np.pi * f  # Convert frequency to angular frequency [rad/s]\n",
    "    s = 1j * omega\n",
    "\n",
    "    # Transfer function C(s) = (9.4e6 / s^2) * (1 + s/1e4) * (1 + s/500)\n",
    "    H = (9.4e6 / s**2) * (1 + s / 1e4) * (1 + s / 500)\n",
    "\n",
    "    mag_db = 20 * np.log10(np.abs(H))\n",
    "    phase_deg = np.angle(H, deg=True)\n",
    "\n",
    "    return mag_db, phase_deg\n",
    "\n",
    "\n",
    "# Get target data\n",
    "target_mag_db, target_phase_deg = moku_pid_tf_model(frfr)\n",
    "\n",
    "# Objective function\n",
    "def objective(params):\n",
    "    Kp_dB, Fc_i, Fc_ii = params\n",
    "    pid = MokuPIDController(\"Moku PID\", sps, Kp_dB, Fc_i, Fc_ii, None, f_trans=1e2)\n",
    "    H = pid.TF(frfr)\n",
    "    \n",
    "    model_mag_db = 20 * np.log10(np.abs(H))\n",
    "    model_phase_deg = np.angle(H, deg=True)\n",
    "\n",
    "    mag_error = model_mag_db - target_mag_db\n",
    "    phase_error = model_phase_deg - target_phase_deg\n",
    "\n",
    "    # Weighting (optional tuning knobs)\n",
    "    weight_mag = 1.0\n",
    "    weight_phase = 1.0\n",
    "\n",
    "    error = weight_mag * mag_error**2 + weight_phase * phase_error**2\n",
    "    return np.sqrt(np.mean(error))\n",
    "\n",
    "# Initial guess and bounds: (Kp_dB, Fc_i, Fc_ii)\n",
    "x0 = [0.0, 100.0, 1.0]  # [dB, Hz, Hz]\n",
    "bounds = [(-40, 40), (1.0, 1e5), (1e-1, 1e4)]\n",
    "\n",
    "# Optimization\n",
    "result = minimize(objective, x0, bounds=bounds, method='L-BFGS-B')\n",
    "Kp_dB_fit, Fc_i_fit, Fc_ii_fit = result.x\n",
    "\n",
    "print(f\"Fitted parameters:\")\n",
    "print(f\"  Kp_dB  = {Kp_dB_fit:.4f} dB\")\n",
    "print(f\"  Fc_i   = {Fc_i_fit:.4f} Hz\")\n",
    "print(f\"  Fc_ii  = {Fc_ii_fit:.4f} Hz\")\n",
    "\n",
    "# Evaluate fitted model\n",
    "pid_fit = MokuPIDController(\"Fitted PID\", sps, Kp_dB_fit, Fc_i_fit, Fc_ii_fit, None, f_trans=1e2)\n",
    "\n",
    "fig, ax = plt.subplots(2,1, figsize=(5,5), dpi=150)\n",
    "pid_fit.bode_plot(frfr, axes=ax, label='Fit', dB=True)\n",
    "ax[0].semilogx(frfr, target_mag_db, label='Model', ls='--')\n",
    "ax[1].semilogx(frfr, target_phase_deg, ls='--')\n",
    "ax[0].legend()\n",
    "plt.show()"
   ]
  }
 ],
 "metadata": {
  "kernelspec": {
   "display_name": "main",
   "language": "python",
   "name": "python3"
  },
  "language_info": {
   "codemirror_mode": {
    "name": "ipython",
    "version": 3
   },
   "file_extension": ".py",
   "mimetype": "text/x-python",
   "name": "python",
   "nbconvert_exporter": "python",
   "pygments_lexer": "ipython3",
   "version": "3.12.0"
  }
 },
 "nbformat": 4,
 "nbformat_minor": 5
}
