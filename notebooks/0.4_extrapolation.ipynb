{
 "cells": [
  {
   "cell_type": "code",
   "execution_count": null,
   "id": "576d3f9d",
   "metadata": {},
   "outputs": [],
   "source": [
    "import numpy as np\n",
    "import control\n",
    "import copy\n",
    "import matplotlib.pyplot as plt\n",
    "from looptools.component import Component\n",
    "import looptools.loopmath as lm\n",
    "from functools import partial\n",
    "\n",
    "sps = 80e6\n",
    "frfr = np.logspace(np.log10(1e-3), np.log10(1e3), int(1e5))\n",
    "frfr = frfr[0:-1]\n",
    "\n",
    "Kp_dB = 10\n",
    "Fc_i = 200\n",
    "Fc_ii = 100\n",
    "f_trans = 100\n",
    "\n",
    "Kp_log2 = lm.db_to_log2_gain(Kp_dB)\n",
    "\n",
    "Ki = 2 ** lm.gain_for_crossover_frequency(Kp_log2, sps, Fc_i, kind='I', structure='add')\n",
    "I = Component(\"I\", sps, np.array([Ki]), np.array([1.0, -1.0]))\n",
    "\n",
    "Kii = 2 ** lm.gain_for_crossover_frequency(Kp_log2, sps, Fc_ii, kind='II', structure='add')\n",
    "II = Component(\"II\", sps, np.array([Kii]), np.array([1.0, -2.0, 1.0]))\n",
    "extrapolated_II = copy.copy(II)\n",
    "extrapolated_II.extrapolate_tf(f_trans=f_trans)\n",
    "\n",
    "Sum = I + extrapolated_II\n",
    "\n",
    "fig, ax = I.bode_plot(frfr, dB=True, c='tomato')\n",
    "II.bode_plot(frfr, axes=ax, dB=True, c='lime')\n",
    "Sum.bode_plot(frfr, axes=ax, dB=True, c='k', ls='--', label='I+II (extrapolated)')\n",
    "plt.show()"
   ]
  },
  {
   "cell_type": "code",
   "execution_count": null,
   "id": "9573e990",
   "metadata": {},
   "outputs": [],
   "source": []
  }
 ],
 "metadata": {
  "kernelspec": {
   "display_name": "main",
   "language": "python",
   "name": "python3"
  },
  "language_info": {
   "codemirror_mode": {
    "name": "ipython",
    "version": 3
   },
   "file_extension": ".py",
   "mimetype": "text/x-python",
   "name": "python",
   "nbconvert_exporter": "python",
   "pygments_lexer": "ipython3",
   "version": "3.12.0"
  }
 },
 "nbformat": 4,
 "nbformat_minor": 5
}
