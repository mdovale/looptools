{
 "cells": [
  {
   "cell_type": "code",
   "execution_count": null,
   "id": "e6ef0504",
   "metadata": {},
   "outputs": [],
   "source": [
    "import numpy as np\n",
    "import matplotlib.pyplot as plt\n",
    "import looptools.pll as pll\n",
    "from looptools.loopmath import get_margin\n",
    "\n",
    "def get_colors_from_colormap(num_lines, colormap_name='viridis'):\n",
    "    colormap = plt.get_cmap(colormap_name)\n",
    "    colors = [colormap(i) for i in np.linspace(0, 1, num_lines)]\n",
    "    return colors"
   ]
  },
  {
   "cell_type": "code",
   "execution_count": null,
   "id": "d71f252e",
   "metadata": {},
   "outputs": [],
   "source": [
    "sps = 80e6 # PLL clock rate\n",
    "frfr = np.logspace(np.log10(1e-6), np.log10(1e6), int(1e5)) # Fourier frequency array (Hz)"
   ]
  },
  {
   "cell_type": "code",
   "execution_count": null,
   "id": "47cef79b",
   "metadata": {},
   "outputs": [],
   "source": [
    "parameters_pll = {\n",
    "    \"Amp\": 1e-5,     # normalized signal amplitude\n",
    "    \"Cshift\": 19,        # Gain bit shift (right)\n",
    "    \"Klf\": 5,            # LF bit shift (right) 5\n",
    "    \"twostages\":True,    # Two stages for LF\n",
    "    \"Kp\": 18,            # P bit shift (left) 18\n",
    "    \"Ki\": 4,             # I bit shift (left) 4\n",
    "    \"n_reg\": 10          # Number of registers\n",
    "}\n",
    "\n",
    "pll_1 = pll.PLL(\n",
    "    sps, \n",
    "    parameters_pll[\"Amp\"], \n",
    "    parameters_pll[\"Cshift\"], \n",
    "    parameters_pll[\"Klf\"], \n",
    "    parameters_pll[\"Kp\"], \n",
    "    parameters_pll[\"Ki\"], \n",
    "    twostages=parameters_pll[\"twostages\"],\n",
    "    n_reg=parameters_pll[\"n_reg\"]\n",
    ")\n",
    "\n",
    "ugf, margin = get_margin(pll_1.Gf(f=frfr), frfr, deg=True) # compute UGF and phase margin"
   ]
  },
  {
   "cell_type": "code",
   "execution_count": null,
   "id": "347c9e39",
   "metadata": {},
   "outputs": [],
   "source": [
    "fig, axes = pll_1.bode_plot(frfr)\n",
    "plt.show()"
   ]
  },
  {
   "cell_type": "code",
   "execution_count": null,
   "id": "1bca46df",
   "metadata": {},
   "outputs": [],
   "source": [
    "axes = pll_1.nyquist_plot(np.logspace(1,6,int(1e3)), logy=True, logx=True, arrow_frequency=100, critical_point=True)\n",
    "plt.show()"
   ]
  },
  {
   "cell_type": "code",
   "execution_count": null,
   "id": "d36055d9",
   "metadata": {},
   "outputs": [],
   "source": [
    "pll_1.block_diagram(transfer_functions=True)"
   ]
  },
  {
   "cell_type": "code",
   "execution_count": null,
   "id": "14dbf481",
   "metadata": {},
   "outputs": [],
   "source": [
    "pll_1.property_list"
   ]
  },
  {
   "cell_type": "code",
   "execution_count": null,
   "id": "e2566fbe",
   "metadata": {},
   "outputs": [],
   "source": [
    "num_lines = 20\n",
    "colors = get_colors_from_colormap(num_lines, 'viridis')\n",
    "\n",
    "axes = None\n",
    "lines = []\n",
    "labels = []\n",
    "for i, k in enumerate(np.linspace(0, 100, num_lines)):\n",
    "    pll_1.LPF_Klf = k\n",
    "    axes = pll_1.bode_plot(\n",
    "        frfr,\n",
    "        axes=axes if axes is not None else None,\n",
    "        which='G',\n",
    "        legend=False,\n",
    "        color=colors[i],\n",
    "    )\n",
    "        # Save just the last line object from magnitude plot\n",
    "    line = axes[0].lines[-1]\n",
    "    lines.append(line)\n",
    "    labels.append(f\"Klf={k:.1f}\")\n",
    "\n",
    "fig.legend(\n",
    "    handles=lines,\n",
    "    labels=labels,\n",
    "    loc='lower center',\n",
    "    bbox_to_anchor=(0.5, -0.05),\n",
    "    ncol=4,  # Adjust based on number of entries\n",
    "    fontsize=8,\n",
    "    edgecolor='black',\n",
    "    fancybox=True,\n",
    "    shadow=True,\n",
    "    framealpha=1\n",
    ")\n",
    "fig = axes[0].get_figure()\n",
    "fig.subplots_adjust(bottom=0.22)\n",
    "plt.show()\n",
    "\n",
    "pll_1.LPF_Klf = 5"
   ]
  },
  {
   "cell_type": "code",
   "execution_count": null,
   "id": "d32badf4",
   "metadata": {},
   "outputs": [],
   "source": [
    "num_lines = 20\n",
    "colors = get_colors_from_colormap(num_lines, 'viridis')\n",
    "\n",
    "axes = None\n",
    "lines = []\n",
    "labels = []\n",
    "for i, k in enumerate(np.linspace(-20,20,num_lines)):\n",
    "    pll_1.PI_Ki = k\n",
    "    axes = pll_1.bode_plot(\n",
    "        frfr,\n",
    "        axes=axes if axes is not None else None,\n",
    "        which='G',\n",
    "        legend=False,\n",
    "        color=colors[i],\n",
    "    )\n",
    "        # Save just the last line object from magnitude plot\n",
    "    line = axes[0].lines[-1]\n",
    "    lines.append(line)\n",
    "    labels.append(f\"Klf={k:.1f}\")\n",
    "\n",
    "fig.legend(\n",
    "    handles=lines,\n",
    "    labels=labels,\n",
    "    loc='lower center',\n",
    "    bbox_to_anchor=(0.5, -0.05),\n",
    "    ncol=4,  # Adjust based on number of entries\n",
    "    fontsize=8,\n",
    "    edgecolor='black',\n",
    "    fancybox=True,\n",
    "    shadow=True,\n",
    "    framealpha=1\n",
    ")\n",
    "fig = axes[0].get_figure()\n",
    "fig.subplots_adjust(bottom=0.22)\n",
    "plt.show()\n",
    "\n",
    "pll_1.PI_Ki = 5\n"
   ]
  },
  {
   "cell_type": "code",
   "execution_count": null,
   "id": "4c0fa158",
   "metadata": {},
   "outputs": [],
   "source": [
    "f2 = np.logspace(5,7,1000)\n",
    "\n",
    "num_lines = 20\n",
    "colors = get_colors_from_colormap(num_lines, 'viridis')\n",
    "\n",
    "axes = None\n",
    "lines = []\n",
    "labels = []\n",
    "for i, k in enumerate(np.linspace(0,20,num_lines)):\n",
    "    pll_1.DSP_n_reg = k\n",
    "    axes = pll_1.bode_plot(\n",
    "        f2,\n",
    "        axes=axes if axes is not None else None,\n",
    "        which='G',\n",
    "        legend=False,\n",
    "        color=colors[i],\n",
    "    )\n",
    "        # Save just the last line object from magnitude plot\n",
    "    line = axes[0].lines[-1]\n",
    "    lines.append(line)\n",
    "    labels.append(f\"Klf={k:.1f}\")\n",
    "\n",
    "fig.legend(\n",
    "    handles=lines,\n",
    "    labels=labels,\n",
    "    loc='lower center',\n",
    "    bbox_to_anchor=(0.5, -0.05),\n",
    "    ncol=4,  # Adjust based on number of entries\n",
    "    fontsize=8,\n",
    "    edgecolor='black',\n",
    "    fancybox=True,\n",
    "    shadow=True,\n",
    "    framealpha=1\n",
    ")\n",
    "fig = axes[0].get_figure()\n",
    "fig.subplots_adjust(bottom=0.22)\n",
    "plt.show()\n",
    "\n",
    "pll_1.DSP_n_reg = 10\n"
   ]
  },
  {
   "cell_type": "code",
   "execution_count": null,
   "id": "2ca673c1",
   "metadata": {},
   "outputs": [],
   "source": []
  }
 ],
 "metadata": {
  "kernelspec": {
   "display_name": "main",
   "language": "python",
   "name": "python3"
  },
  "language_info": {
   "codemirror_mode": {
    "name": "ipython",
    "version": 3
   },
   "file_extension": ".py",
   "mimetype": "text/x-python",
   "name": "python",
   "nbconvert_exporter": "python",
   "pygments_lexer": "ipython3",
   "version": "3.12.0"
  }
 },
 "nbformat": 4,
 "nbformat_minor": 5
}
