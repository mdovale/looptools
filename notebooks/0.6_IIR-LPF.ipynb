{
 "cells": [
  {
   "cell_type": "code",
   "execution_count": null,
   "id": "0303c512",
   "metadata": {},
   "outputs": [],
   "source": [
    "import numpy as np\n",
    "import matplotlib.pyplot as plt\n",
    "from looptools.components import LPFComponent\n",
    "import looptools.loopmath as lm\n",
    "from looptools.plots import default_rc\n",
    "plt.rcParams.update(default_rc)"
   ]
  },
  {
   "cell_type": "code",
   "execution_count": null,
   "id": "ede012e8",
   "metadata": {},
   "outputs": [],
   "source": [
    "def test_lpf_component():\n",
    "    # Define sample rate and frequency range\n",
    "    sps = 80e6\n",
    "    frfr = np.logspace(np.log10(1), np.log10(40e6), int(1e5))[:-1]\n",
    "\n",
    "    # Test several cutoff frequencies and orders\n",
    "    cutoff_freqs = [1e3, 10e3, 100e3, 1e6]  # Hz\n",
    "    orders = [1, 2, 3, 4]\n",
    "\n",
    "    # Plot response for varying cutoff frequencies\n",
    "    fig_cutoff, ax_cutoff = plt.subplots()\n",
    "    for f_c in cutoff_freqs:\n",
    "        Klf = lm.Klf_from_cutoff(f_c, sps)\n",
    "        lpf = LPFComponent(name=f\"LPF @ {f_c:.0f} Hz\", sps=sps, Klf=Klf)\n",
    "        mag, _ = lpf.bode(frfr, dB=True)\n",
    "        ax_cutoff.semilogx(frfr, mag, label=f\"{f_c/1e3:.0f} kHz\")\n",
    "\n",
    "    ax_cutoff.set_title(\"LPFComponent Magnitude vs Cutoff Frequency\")\n",
    "    ax_cutoff.set_xlabel(\"Frequency [Hz]\")\n",
    "    ax_cutoff.set_ylabel(\"Magnitude [dB]\")\n",
    "    ax_cutoff.grid(True, which='both', ls='--')\n",
    "    ax_cutoff.legend()\n",
    "\n",
    "    # Plot response for fixed cutoff, varying order n\n",
    "    fig_order, ax_order = plt.subplots()\n",
    "    fixed_fc = 10e3  # 100 kHz cutoff\n",
    "    for n in orders:\n",
    "        Klf = lm.Klf_from_cutoff(fixed_fc, sps, n=n)\n",
    "        lpf = LPFComponent(name=f\"Order {n}\", sps=sps, Klf=Klf, n=n)\n",
    "        mag, _ = lpf.bode(frfr, dB=True)\n",
    "        ax_order.semilogx(frfr, mag, label=f\"n = {n}\")\n",
    "\n",
    "    ax_order.set_title(\"LPFComponent Magnitude vs Order (Fixed f_c = 100 kHz)\")\n",
    "    ax_order.set_xlabel(\"Frequency [Hz]\")\n",
    "    ax_order.set_ylabel(\"Magnitude [dB]\")\n",
    "    ax_order.grid(True, which='both', ls='--')\n",
    "    ax_order.legend()\n",
    "\n",
    "    plt.show()\n",
    "\n",
    "test_lpf_component()"
   ]
  },
  {
   "cell_type": "code",
   "execution_count": null,
   "id": "997c8334",
   "metadata": {},
   "outputs": [],
   "source": []
  },
  {
   "cell_type": "code",
   "execution_count": null,
   "id": "548d1d3f",
   "metadata": {},
   "outputs": [],
   "source": []
  },
  {
   "cell_type": "code",
   "execution_count": null,
   "id": "f9ed8d53",
   "metadata": {},
   "outputs": [],
   "source": []
  },
  {
   "cell_type": "code",
   "execution_count": null,
   "id": "e4b2000f",
   "metadata": {},
   "outputs": [],
   "source": []
  },
  {
   "cell_type": "code",
   "execution_count": null,
   "id": "7a7fbc4c",
   "metadata": {},
   "outputs": [],
   "source": []
  }
 ],
 "metadata": {
  "kernelspec": {
   "display_name": "main",
   "language": "python",
   "name": "python3"
  },
  "language_info": {
   "codemirror_mode": {
    "name": "ipython",
    "version": 3
   },
   "file_extension": ".py",
   "mimetype": "text/x-python",
   "name": "python",
   "nbconvert_exporter": "python",
   "pygments_lexer": "ipython3",
   "version": "3.12.0"
  }
 },
 "nbformat": 4,
 "nbformat_minor": 5
}
