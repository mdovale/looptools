{
 "cells": [
  {
   "cell_type": "code",
   "execution_count": null,
   "id": "9bee1f2d",
   "metadata": {},
   "outputs": [],
   "source": [
    "import numpy as np\n",
    "import matplotlib.pyplot as plt\n",
    "import looptools.pll as pll\n",
    "import looptools.auxiliary as aux\n",
    "from looptools.nprolaserlock import NPROLaserLock\n",
    "from looptools.simulation import loop_crossover_optimizer"
   ]
  },
  {
   "cell_type": "code",
   "execution_count": null,
   "id": "b94a94e4",
   "metadata": {},
   "outputs": [],
   "source": [
    "sps = 80e6 # PLL clock rate\n",
    "frfr = np.logspace(np.log10(1e-6), np.log10(1e6), int(1e5)) # Fourier frequency array (Hz)"
   ]
  },
  {
   "cell_type": "code",
   "execution_count": null,
   "id": "47fcd130",
   "metadata": {},
   "outputs": [],
   "source": [
    "parameters_pll = {\n",
    "    \"Amp\": 1e-5,         # normalized signal amplitude\n",
    "    \"Cshift\": 19,        # Gain bit shift (right)\n",
    "    \"Klf\": 5,            # LF bit shift (right) 5\n",
    "    \"twostages\":True,    # Two stages for LF\n",
    "    \"Kp\": 18,            # P bit shift (left) 18\n",
    "    \"Ki\": 4,             # I bit shift (left) 4\n",
    "    \"n_reg\": 10          # Number of registers\n",
    "}\n",
    "\n",
    "pll_1 = pll.PLL(\n",
    "    sps, \n",
    "    parameters_pll[\"Amp\"], \n",
    "    parameters_pll[\"Cshift\"], \n",
    "    parameters_pll[\"Klf\"], \n",
    "    parameters_pll[\"Kp\"], \n",
    "    parameters_pll[\"Ki\"], \n",
    "    twostages=parameters_pll[\"twostages\"],\n",
    "    n_reg=parameters_pll[\"n_reg\"]\n",
    ")\n",
    "\n",
    "ugf, margin = aux.get_margin(pll_1.Gf(f=frfr), frfr, deg=True) # compute UGF and phase margin\n",
    "\n",
    "print(f\"Unity gain frequency = {ugf:.4e} Hz; Phase margin = {margin:.4f} degrees\")"
   ]
  },
  {
   "cell_type": "code",
   "execution_count": null,
   "id": "bfa530e2",
   "metadata": {},
   "outputs": [],
   "source": [
    "ll_parameters = {\n",
    "    \"pll\": pll_1,  # PLL instance for the laser lock\n",
    "    \"C1\": 64,      # shifted bit at the gain stage 1\n",
    "    \"C2\": 64,      # shifted bit at the gain stage 2\n",
    "    \"Ki1\": 56,     # I gain of a digital servo for a PZT loop\n",
    "    \"Kii1\": 30,    # II gain of a digital servo for a PZT loop\n",
    "    \"Kp2\": 0,      # P gain of a digital servo for a temperature loop\n",
    "    \"Ki2\": 31,     # I gain of a digital servo for a temperature loop\n",
    "    \"Kdac\": 1,     # DAC gain\n",
    "    \"Kc_pzt\": 2.5, # gain of an analog filter in a PZT loop (1e3/75 for LISA)\n",
    "    \"Fc_pzt\": 1/(2*np.pi*1e3*10e-12), # corner frequency of an analog filter in a PZT loop (1/(2*np.pi*1e3*10e-12) for LISA)\n",
    "    \"Kc_temp\": 1,  # gain of an analog filter in a temperature loop\n",
    "    \"Fc_temp\": 10, # corner frequency of an analog filter in a temperature loop\n",
    "    \"Ka_pzt\": 14e6,       # Laser PZT actuator efficiency [Hz/V]\n",
    "    \"Fa_pzt\": 100e5,      # Laser PZT response bandwidth [Hz]\n",
    "    \"Ka_temp\": 500e6,     # Laser temperature actuator efficiency\n",
    "    \"Fa_temp\": 10,        # Laser temperature response bandwidth [Hz]\n",
    "    \"Nreg1\": 0,           # the number of registers which represents, e.g., the delay between IPU and PCU\n",
    "    \"mode\": 'frequency',  # Laser lock mode \"phase\" or \"frequency\"\n",
    "    \"extrapolate\": False, # extrapolate PLL TF or not\n",
    "}\n",
    "\n",
    "p_llextra = { # extrapolation parameters\n",
    "    'Fpll': [True, 1e2,1],\n",
    "    'p_II1': [True, 1e4,-2],\n",
    "    't_II1': [True, 1e4,-2],\n",
    "}\n",
    "\n",
    "# # : instantiate LaserLock class\n",
    "ll = NPROLaserLock(\n",
    "    sps, \n",
    "    pll=ll_parameters[\"pll\"], \n",
    "    C1=ll_parameters[\"C1\"], \n",
    "    C2=ll_parameters[\"C2\"],\n",
    "    Ki1=ll_parameters[\"Ki1\"],   \n",
    "    Kii1=ll_parameters[\"Kii1\"],\n",
    "    Kp2=ll_parameters[\"Kp2\"], \n",
    "    Ki2=ll_parameters[\"Ki2\"],\n",
    "    Kdac=ll_parameters[\"Kdac\"],\n",
    "    Kc_pzt=ll_parameters[\"Kc_pzt\"], \n",
    "    Fc_pzt=ll_parameters[\"Fc_pzt\"],\n",
    "    Ka_pzt=ll_parameters[\"Ka_pzt\"], \n",
    "    Fa_pzt=ll_parameters[\"Fa_pzt\"],\n",
    "    Kc_temp=ll_parameters[\"Kc_temp\"], \n",
    "    Fc_temp=ll_parameters[\"Fc_temp\"],\n",
    "    Ka_temp=ll_parameters[\"Ka_temp\"], \n",
    "    Fa_temp=ll_parameters[\"Fa_temp\"],\n",
    "    Nreg1=ll_parameters[\"Nreg1\"],\n",
    "    mode=ll_parameters[\"mode\"],\n",
    "    extrapolate=p_llextra\n",
    ")"
   ]
  },
  {
   "cell_type": "code",
   "execution_count": null,
   "id": "b269eff1",
   "metadata": {},
   "outputs": [],
   "source": [
    "ll.pzt.block_diagram(transfer_functions=False)"
   ]
  },
  {
   "cell_type": "code",
   "execution_count": null,
   "id": "29e89414",
   "metadata": {},
   "outputs": [],
   "source": [
    "fig, ax = ll.pzt.nyquist_plot(np.logspace(0,6,int(1e5)), logx=True, logy=True, arrow_frequency=1000, label='PZT')\n",
    "ll.temp.nyquist_plot(np.logspace(0,6,int(1e5)), ax=ax, ls='--', critical_point=True, label='Temp')\n",
    "plt.show()"
   ]
  },
  {
   "cell_type": "code",
   "execution_count": null,
   "id": "b48b5b5e",
   "metadata": {},
   "outputs": [],
   "source": [
    "fig, axes = ll.pzt.bode_plot(frfr, label='PZT')\n",
    "ll.temp.bode_plot(frfr, axes=axes, label='Temp', ls='--')\n",
    "plt.show()"
   ]
  },
  {
   "cell_type": "code",
   "execution_count": null,
   "id": "f4684774",
   "metadata": {},
   "outputs": [],
   "source": [
    "f_cross = aux.loop_crossover(ll.pzt, ll.temp, frfr)\n",
    "\n",
    "print(f\"Cross-over frequency between the fast and slow loops: {f_cross:.4e} Hz\")"
   ]
  },
  {
   "cell_type": "code",
   "execution_count": null,
   "id": "5b9e7176",
   "metadata": {},
   "outputs": [],
   "source": [
    "figsize=(6,4)\n",
    "dpi=300\n",
    "fontsize=8\n",
    "linewidth=1.5\n",
    "\n",
    "fig, (ax1, ax2) = plt.subplots(2,1, figsize=figsize, dpi=dpi)\n",
    "ax1.loglog(frfr, np.abs(ll.pzt.Gf(f=frfr)), linewidth=linewidth, color=\"blue\", linestyle='-', label=\"PZT\")\n",
    "ax1.loglog(frfr, np.abs(ll.temp.Gf(f=frfr)), linewidth=linewidth, color=\"red\", linestyle='-', label=\"Temp\")\n",
    "ax1.loglog(frfr, np.abs(ll.Gf(f=frfr)), linewidth=linewidth, color=\"black\", linestyle='--', label=\"Total\")\n",
    "ax2.semilogx(frfr, np.angle(ll.pzt.Gf(f=frfr)), linewidth=linewidth, color=\"blue\", linestyle='-', label=\"PZT\")\n",
    "ax2.semilogx(frfr, np.angle(ll.temp.Gf(f=frfr)), linewidth=linewidth, color=\"red\", linestyle='-', label=\"Temp\")\n",
    "ax2.semilogx(frfr, np.angle(ll.Gf(f=frfr)), linewidth=linewidth, color=\"black\", linestyle='--', label=\"Total\")\n",
    "for ax in (ax1, ax2):\n",
    "    ax.axvline(f_cross, color='orange', ls='-', label='Temp-PZT crossover')\n",
    "ax2.set_xlabel(\"Frequency (Hz)\", fontsize=fontsize)\n",
    "ax1.set_ylabel(\"Magnitude\", fontsize=fontsize)\n",
    "ax2.set_ylabel(\"Phase (deg)\", fontsize=fontsize)\n",
    "ax1.set_title(\"Test\", fontsize=fontsize)\n",
    "ax1.axes.xaxis.set_ticklabels([])\n",
    "ax1.tick_params(labelsize=fontsize)\n",
    "ax2.tick_params(labelsize=fontsize)\n",
    "ax1.grid()\n",
    "ax2.grid()\n",
    "ax1.set_xlim(frfr[0],frfr[-1])\n",
    "ax2.set_xlim(frfr[0],frfr[-1])\n",
    "ax1.legend(loc='best', edgecolor='black', fancybox=True, shadow=True, framealpha=1, fontsize=fontsize-1, handlelength=2.9)\n",
    "fig.tight_layout()\n",
    "fig.align_ylabels()"
   ]
  },
  {
   "cell_type": "code",
   "execution_count": null,
   "id": "06616f38",
   "metadata": {},
   "outputs": [],
   "source": [
    "ll.temp.property_list, ll.pzt.property_list"
   ]
  },
  {
   "cell_type": "code",
   "execution_count": null,
   "id": "1c59dae2",
   "metadata": {},
   "outputs": [],
   "source": [
    "meta = {\"Fctrl2_Ki\": [1,50,30,True]}\n",
    "\n",
    "loop_crossover_optimizer(ll.temp, ll.pzt, frfr, 0.1, meta)"
   ]
  },
  {
   "cell_type": "code",
   "execution_count": null,
   "id": "26f5a585",
   "metadata": {},
   "outputs": [],
   "source": [
    "f_cross = aux.loop_crossover(ll.pzt, ll.temp, frfr)\n",
    "print(f\"Original crossover frequency: {f_cross:.4f} Hz\")\n",
    "ll.temp.Fctrl2_Ki = 33\n",
    "f_cross = aux.loop_crossover(ll.pzt, ll.temp, frfr)\n",
    "print(f\"New crossover frequency: {f_cross:.4f} Hz\")"
   ]
  },
  {
   "cell_type": "code",
   "execution_count": null,
   "id": "fe8e7e4e",
   "metadata": {},
   "outputs": [],
   "source": [
    "\n",
    "figsize=(6,4)\n",
    "dpi=300\n",
    "fontsize=8\n",
    "linewidth=1.5\n",
    "\n",
    "fig, (ax1, ax2) = plt.subplots(2,1, figsize=figsize, dpi=dpi)\n",
    "ax1.loglog(frfr, np.abs(ll.pzt.Gf(f=frfr)), linewidth=linewidth, color=\"blue\", linestyle='-', label=\"PZT\")\n",
    "ax1.loglog(frfr, np.abs(ll.temp.Gf(f=frfr)), linewidth=linewidth, color=\"red\", linestyle='-', label=\"Temp\")\n",
    "ax1.loglog(frfr, np.abs(ll.Gf(f=frfr)), linewidth=linewidth, color=\"black\", linestyle='--', label=\"Total\")\n",
    "ax2.semilogx(frfr, np.angle(ll.pzt.Gf(f=frfr)), linewidth=linewidth, color=\"blue\", linestyle='-', label=\"PZT\")\n",
    "ax2.semilogx(frfr, np.angle(ll.temp.Gf(f=frfr)), linewidth=linewidth, color=\"red\", linestyle='-', label=\"Temp\")\n",
    "ax2.semilogx(frfr, np.angle(ll.Gf(f=frfr)), linewidth=linewidth, color=\"black\", linestyle='--', label=\"Total\")\n",
    "for ax in (ax1, ax2):\n",
    "    ax.axvline(f_cross, color='orange', ls='-', label='Temp-PZT crossover')\n",
    "ax2.set_xlabel(\"Frequency (Hz)\", fontsize=fontsize)\n",
    "ax1.set_ylabel(\"Magnitude\", fontsize=fontsize)\n",
    "ax2.set_ylabel(\"Phase (deg)\", fontsize=fontsize)\n",
    "ax1.set_title(\"Test\", fontsize=fontsize)\n",
    "ax1.axes.xaxis.set_ticklabels([])\n",
    "ax1.tick_params(labelsize=fontsize)\n",
    "ax2.tick_params(labelsize=fontsize)\n",
    "ax1.grid()\n",
    "ax2.grid()\n",
    "ax1.set_xlim(frfr[0],frfr[-1])\n",
    "ax2.set_xlim(frfr[0],frfr[-1])\n",
    "ax1.legend(loc='best', edgecolor='black', fancybox=True, shadow=True, framealpha=1, fontsize=fontsize-1, handlelength=2.9)\n",
    "fig.tight_layout()\n",
    "fig.align_ylabels()\n",
    "plt.show()"
   ]
  },
  {
   "cell_type": "code",
   "execution_count": null,
   "id": "beb5e306",
   "metadata": {},
   "outputs": [],
   "source": []
  }
 ],
 "metadata": {
  "kernelspec": {
   "display_name": "main",
   "language": "python",
   "name": "python3"
  },
  "language_info": {
   "codemirror_mode": {
    "name": "ipython",
    "version": 3
   },
   "file_extension": ".py",
   "mimetype": "text/x-python",
   "name": "python",
   "nbconvert_exporter": "python",
   "pygments_lexer": "ipython3",
   "version": "3.12.0"
  }
 },
 "nbformat": 4,
 "nbformat_minor": 5
}
